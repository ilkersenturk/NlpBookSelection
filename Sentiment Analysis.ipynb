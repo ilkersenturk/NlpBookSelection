{
 "cells": [
  {
   "cell_type": "markdown",
   "id": "fcc9a50f",
   "metadata": {},
   "source": [
    "# Sentiment Analysis with Logistic Regression\n",
    "\n",
    "    Plan :\n",
    "    \n",
    "    1st : Found thre reviews on the book online , extract the reviews and save them as list book_reviews\n",
    "    \n",
    "    2nd : For Sentiment analysis we need data to train on classifier, I will be using Logistic Regression\n",
    "    \n",
    "    Logistic Regression tell us what are the odd, how like to have positive vs negative label\n",
    "    \n",
    "    \n",
    "    3: We need to prepare the data in a way Classifier can word on but before that We need a clean data\n",
    "    \n",
    "    \n",
    "          Data Processing : Get rid of # @ // unichars, htttpp..,www\n",
    "                            Remove  punctuations,\n",
    "                            Eliminate stopwords,\n",
    "                            Convert uppercase to lower\n",
    "                            Perform lemmatazation or Stemming\n",
    "                            \n",
    "          \n",
    "           Data preperation for Classifier :we will have positive and negative revies,\n",
    "           \n",
    "              1-) I will create a dictionary where each words are unique and theier values will be \n",
    "               \n",
    "               a list [positive count, negative count]\n",
    "               \n",
    "               for Example :\n",
    "                            merald  :  [0, 1]\n",
    "                            nineteen  :  [3, 2]\n",
    "                            animal  :  [58, 86]\n",
    "                            neutralize  :  [1, 0]\n",
    "                            torch  :  [6, 3]\n",
    "                            howser  :  [4, 3]\n",
    "                            wen  :  [147, 125]\n",
    "\n",
    "              2-) Convert the revies into total counts of positive and negative values :\n",
    "                  \n",
    "                  For Example :I really enjoy this novel. It has the things I enjoy reading about. \n",
    "                  \n",
    "            [enjoy,      novel,          enjoy,      reading'] ==> [990 ,635] ==> 1\n",
    "           [375, 241]    [185, 122]      [375, 241]  [55, 31]\n",
    "    \n",
    "    \n",
    "            3 -) Train the vectroried labeled data to learn weights then predict the reviews sentiment\n",
    "    \n",
    "  \n",
    "\n",
    "\n",
    "\n"
   ]
  },
  {
   "cell_type": "code",
   "execution_count": 1,
   "id": "32769623",
   "metadata": {},
   "outputs": [
    {
     "name": "stderr",
     "output_type": "stream",
     "text": [
      "/var/folders/ly/yk3m2zx54dn3f8s2ydnw765r0000gn/T/ipykernel_68879/434258147.py:4: DeprecationWarning: executable_path has been deprecated, please pass in a Service object\n",
      "  driver = webdriver.Chrome(google_web_driver_path)\n",
      "/var/folders/ly/yk3m2zx54dn3f8s2ydnw765r0000gn/T/ipykernel_68879/434258147.py:10: DeprecationWarning: find_element_by_* commands are deprecated. Please use find_element() instead\n",
      "  reviews = driver.find_element_by_id(\"review_load\")\n",
      "/Users/ilkersenturk/opt/anaconda3/lib/python3.8/site-packages/selenium/webdriver/remote/webelement.py:464: UserWarning: find_elements_by_* commands are deprecated. Please use find_elements() instead\n",
      "  warnings.warn(\"find_elements_by_* commands are deprecated. Please use find_elements() instead\")\n"
     ]
    }
   ],
   "source": [
    "from selenium import webdriver\n",
    "google_web_driver_path = \"/Users/ilkersenturk/Desktop/nlp/chromedriver\"\n",
    "    \n",
    "driver = webdriver.Chrome(google_web_driver_path)\n",
    "driver.get(\"http://www.lightnovelpub.com/novel/martial-peak-19072354/reviews\")\n",
    "\n",
    "\n",
    "book_reviews = []\n",
    "\n",
    "reviews = driver.find_element_by_id(\"review_load\")\n",
    "for review in reviews.find_elements_by_class_name(\"review-text\"):\n",
    "    \n",
    "    book_reviews.append(str(review.text))\n",
    "\n",
    "driver.close()"
   ]
  },
  {
   "cell_type": "code",
   "execution_count": 2,
   "id": "bab0aad6",
   "metadata": {},
   "outputs": [
    {
     "name": "stderr",
     "output_type": "stream",
     "text": [
      "/var/folders/ly/yk3m2zx54dn3f8s2ydnw765r0000gn/T/ipykernel_68879/2516972219.py:1: DeprecationWarning: executable_path has been deprecated, please pass in a Service object\n",
      "  driver = webdriver.Chrome(google_web_driver_path)\n",
      "/var/folders/ly/yk3m2zx54dn3f8s2ydnw765r0000gn/T/ipykernel_68879/2516972219.py:5: DeprecationWarning: find_element_by_* commands are deprecated. Please use find_element() instead\n",
      "  reviews = driver.find_element_by_id(\"review\")\n"
     ]
    }
   ],
   "source": [
    "driver = webdriver.Chrome(google_web_driver_path)\n",
    "\n",
    "driver.get(\"https://www.webnovel.com/book/system-in-martial-peak_19139372105400305/reviews\")\n",
    "\n",
    "reviews = driver.find_element_by_id(\"review\")\n",
    "for review in reviews.find_elements_by_class_name(\"j_book_review\"):\n",
    "    \n",
    "    book_reviews.append(str(review.text))\n",
    "\n",
    "driver.close()"
   ]
  },
  {
   "cell_type": "code",
   "execution_count": 3,
   "id": "dd48b1c0",
   "metadata": {},
   "outputs": [
    {
     "data": {
      "text/plain": [
       "['I really enjoy this novel. It has the things I enjoy reading about. Now I am typing more to fill the 140 character count that does not include spaces.',\n",
       " 'story is good and mc is op in first chapters. But after 2100 chapters his attitude change and start begging and is polite to everyone. this kinda suck.\\nand due to this i lost interest.']"
      ]
     },
     "execution_count": 3,
     "metadata": {},
     "output_type": "execute_result"
    }
   ],
   "source": [
    "book_reviews[:2]"
   ]
  },
  {
   "cell_type": "markdown",
   "id": "6d1e2374",
   "metadata": {},
   "source": [
    "# Training review data"
   ]
  },
  {
   "cell_type": "code",
   "execution_count": 4,
   "id": "7d9f49be",
   "metadata": {},
   "outputs": [],
   "source": [
    "import nltk \n",
    "from nltk.corpus import movie_reviews"
   ]
  },
  {
   "cell_type": "code",
   "execution_count": 5,
   "id": "75f72d21",
   "metadata": {},
   "outputs": [],
   "source": [
    "positive_reviews =[]\n",
    "for review in movie_reviews.fileids(categories='pos'):\n",
    "\n",
    "    positive_reviews.append(movie_reviews.raw(review))\n",
    "    \n",
    "negative_reviews =[]\n",
    "for review in movie_reviews.fileids(categories='neg'):\n",
    "\n",
    "    negative_reviews.append(movie_reviews.raw(review))\n",
    " "
   ]
  },
  {
   "cell_type": "code",
   "execution_count": 6,
   "id": "8c686396",
   "metadata": {},
   "outputs": [
    {
     "name": "stdout",
     "output_type": "stream",
     "text": [
      "1000 1000\n"
     ]
    }
   ],
   "source": [
    "print(len(positive_reviews), len(negative_reviews))"
   ]
  },
  {
   "cell_type": "code",
   "execution_count": 7,
   "id": "442e5d83",
   "metadata": {},
   "outputs": [],
   "source": [
    "positive_labels = [1 for review in positive_reviews]\n",
    "negative_labels = [0 for review in negative_reviews]"
   ]
  },
  {
   "cell_type": "code",
   "execution_count": 8,
   "id": "5fe9015d",
   "metadata": {},
   "outputs": [
    {
     "data": {
      "text/plain": [
       "['films adapted from comic books have had plenty of success , whether they\\'re about superheroes ( batman , superman , spawn ) , or geared toward kids ( casper ) or the arthouse crowd ( ghost world ) , but there\\'s never really been a comic book like from hell before . \\nfor starters , it was created by alan moore ( and eddie campbell ) , who brought the medium to a whole new level in the mid \\'80s with a 12-part series called the watchmen . \\nto say moore and campbell thoroughly researched the subject of jack the ripper would be like saying michael jackson is starting to look a little odd . \\nthe book ( or \" graphic novel , \" if you will ) is over 500 pages long and includes nearly 30 more that consist of nothing but footnotes . \\nin other words , don\\'t dismiss this film because of its source . \\nif you can get past the whole comic book thing , you might find another stumbling block in from hell\\'s directors , albert and allen hughes . \\ngetting the hughes brothers to direct this seems almost as ludicrous as casting carrot top in , well , anything , but riddle me this : who better to direct a film that\\'s set in the ghetto and features really violent street crime than the mad geniuses behind menace ii society ? \\nthe ghetto in question is , of course , whitechapel in 1888 london\\'s east end . \\nit\\'s a filthy , sooty place where the whores ( called \" unfortunates \" ) are starting to get a little nervous about this mysterious psychopath who has been carving through their profession with surgical precision . \\nwhen the first stiff turns up , copper peter godley ( robbie coltrane , the world is not enough ) calls in inspector frederick abberline ( johnny depp , blow ) to crack the case . \\nabberline , a widower , has prophetic dreams he unsuccessfully tries to quell with copious amounts of absinthe and opium . \\nupon arriving in whitechapel , he befriends an unfortunate named mary kelly ( heather graham , say it isn\\'t so ) and proceeds to investigate the horribly gruesome crimes that even the police surgeon can\\'t stomach . \\ni don\\'t think anyone needs to be briefed on jack the ripper , so i won\\'t go into the particulars here , other than to say moore and campbell have a unique and interesting theory about both the identity of the killer and the reasons he chooses to slay . \\nin the comic , they don\\'t bother cloaking the identity of the ripper , but screenwriters terry hayes ( vertical limit ) and rafael yglesias ( les mis ? rables ) do a good job of keeping him hidden from viewers until the very end . \\nit\\'s funny to watch the locals blindly point the finger of blame at jews and indians because , after all , an englishman could never be capable of committing such ghastly acts . \\nand from hell\\'s ending had me whistling the stonecutters song from the simpsons for days ( \" who holds back the electric car/who made steve guttenberg a star ? \" ) . \\ndon\\'t worry - it\\'ll all make sense when you see it . \\nnow onto from hell\\'s appearance : it\\'s certainly dark and bleak enough , and it\\'s surprising to see how much more it looks like a tim burton film than planet of the apes did ( at times , it seems like sleepy hollow 2 ) . \\nthe print i saw wasn\\'t completely finished ( both color and music had not been finalized , so no comments about marilyn manson ) , but cinematographer peter deming ( don\\'t say a word ) ably captures the dreariness of victorian-era london and helped make the flashy killing scenes remind me of the crazy flashbacks in twin peaks , even though the violence in the film pales in comparison to that in the black-and-white comic . \\noscar winner martin childs\\' ( shakespeare in love ) production design turns the original prague surroundings into one creepy place . \\neven the acting in from hell is solid , with the dreamy depp turning in a typically strong performance and deftly handling a british accent . \\nians holm ( joe gould\\'s secret ) and richardson ( 102 dalmatians ) log in great supporting roles , but the big surprise here is graham . \\ni cringed the first time she opened her mouth , imagining her attempt at an irish accent , but it actually wasn\\'t half bad . \\nthe film , however , is all good . \\n2 : 00 - r for strong violence/gore , sexuality , language and drug content \\n']"
      ]
     },
     "execution_count": 8,
     "metadata": {},
     "output_type": "execute_result"
    }
   ],
   "source": [
    "positive_reviews[:1]"
   ]
  },
  {
   "cell_type": "code",
   "execution_count": 9,
   "id": "f771e7cc",
   "metadata": {},
   "outputs": [],
   "source": [
    "from helper_function import cleanText, removeStopWords, lemmaText"
   ]
  },
  {
   "cell_type": "code",
   "execution_count": 10,
   "id": "3971c1be",
   "metadata": {},
   "outputs": [],
   "source": [
    "for i in range(1000):\n",
    "    positive_reviews[i] = lemmaText(removeStopWords(cleanText( positive_reviews[i])))\n",
    "    negative_reviews[i] = lemmaText(removeStopWords(cleanText(negative_reviews[i])))"
   ]
  },
  {
   "cell_type": "code",
   "execution_count": 11,
   "id": "8985be85",
   "metadata": {},
   "outputs": [],
   "source": [
    "all_reviews = positive_reviews + negative_reviews\n",
    "\n",
    "labels = positive_labels + negative_labels"
   ]
  },
  {
   "cell_type": "code",
   "execution_count": 12,
   "id": "a0184552",
   "metadata": {},
   "outputs": [],
   "source": [
    "positive_reviews_str = \" \".join(positive_reviews)\n",
    "negative_reviews_str = \" \".join(negative_reviews)\n",
    "\n",
    "reviews_str = positive_reviews_str +\" \" + negative_reviews_str\n",
    "\n",
    "unique_words = set(reviews_str.split())"
   ]
  },
  {
   "cell_type": "code",
   "execution_count": 13,
   "id": "6bffcab9",
   "metadata": {},
   "outputs": [],
   "source": [
    "frequency =dict.fromkeys(unique_words,[0,0])\n",
    "\n",
    "for word, value_pair in frequency.items():\n",
    "    \n",
    "    frequency[word] = [positive_reviews_str.count(word), negative_reviews_str.count(word)]"
   ]
  },
  {
   "cell_type": "code",
   "execution_count": 14,
   "id": "82b2b325",
   "metadata": {},
   "outputs": [
    {
     "name": "stdout",
     "output_type": "stream",
     "text": [
      "sabihy  :  [0, 1]\n",
      "tidal  :  [2, 7]\n",
      "tornado  :  [10, 9]\n",
      "dust  :  [104, 72]\n",
      "nobility  :  [6, 0]\n",
      "nypd  :  [3, 4]\n",
      "windowdresser  :  [0, 1]\n",
      "teris  :  [23, 16]\n",
      "uncooperative  :  [2, 0]\n",
      "pseudoplaymate  :  [1, 0]\n",
      "elvira  :  [1, 0]\n",
      "verbalize  :  [0, 1]\n",
      "torturously  :  [0, 1]\n",
      "plumets  :  [0, 1]\n",
      "headtohead  :  [3, 2]\n",
      "darndest  :  [1, 0]\n"
     ]
    }
   ],
   "source": [
    "count = 0\n",
    "\n",
    "for word, key in frequency.items():\n",
    "    \n",
    "    print(word, \" : \", key)\n",
    "    \n",
    "    if count ==15:\n",
    "        break\n",
    "    count +=1"
   ]
  },
  {
   "cell_type": "code",
   "execution_count": 15,
   "id": "0d6a1d20",
   "metadata": {},
   "outputs": [],
   "source": [
    "import pandas as pd\n",
    "\n",
    "df = pd.DataFrame()\n",
    "\n",
    "for review ,label in zip(all_reviews,labels):\n",
    "    \n",
    "    pos = 0\n",
    "    neg = 0\n",
    "    for word in review.split():\n",
    "        \n",
    "        pos += frequency[word][0]\n",
    "        neg += frequency[word][1]\n",
    "    data = {\"bias\":1, \"positive\": pos, \"negative\": neg, \"sentiment\": label}\n",
    "    df= df.append(data, ignore_index=True)"
   ]
  },
  {
   "cell_type": "code",
   "execution_count": 16,
   "id": "5a32858e",
   "metadata": {},
   "outputs": [
    {
     "data": {
      "text/html": [
       "<div>\n",
       "<style scoped>\n",
       "    .dataframe tbody tr th:only-of-type {\n",
       "        vertical-align: middle;\n",
       "    }\n",
       "\n",
       "    .dataframe tbody tr th {\n",
       "        vertical-align: top;\n",
       "    }\n",
       "\n",
       "    .dataframe thead th {\n",
       "        text-align: right;\n",
       "    }\n",
       "</style>\n",
       "<table border=\"1\" class=\"dataframe\">\n",
       "  <thead>\n",
       "    <tr style=\"text-align: right;\">\n",
       "      <th></th>\n",
       "      <th>bias</th>\n",
       "      <th>positive</th>\n",
       "      <th>negative</th>\n",
       "      <th>sentiment</th>\n",
       "    </tr>\n",
       "  </thead>\n",
       "  <tbody>\n",
       "    <tr>\n",
       "      <th>0</th>\n",
       "      <td>1.0</td>\n",
       "      <td>394606.0</td>\n",
       "      <td>353652.0</td>\n",
       "      <td>1.0</td>\n",
       "    </tr>\n",
       "    <tr>\n",
       "      <th>1</th>\n",
       "      <td>1.0</td>\n",
       "      <td>226116.0</td>\n",
       "      <td>211206.0</td>\n",
       "      <td>1.0</td>\n",
       "    </tr>\n",
       "    <tr>\n",
       "      <th>2</th>\n",
       "      <td>1.0</td>\n",
       "      <td>125520.0</td>\n",
       "      <td>116157.0</td>\n",
       "      <td>1.0</td>\n",
       "    </tr>\n",
       "    <tr>\n",
       "      <th>3</th>\n",
       "      <td>1.0</td>\n",
       "      <td>813761.0</td>\n",
       "      <td>727562.0</td>\n",
       "      <td>1.0</td>\n",
       "    </tr>\n",
       "    <tr>\n",
       "      <th>4</th>\n",
       "      <td>1.0</td>\n",
       "      <td>344181.0</td>\n",
       "      <td>324640.0</td>\n",
       "      <td>1.0</td>\n",
       "    </tr>\n",
       "  </tbody>\n",
       "</table>\n",
       "</div>"
      ],
      "text/plain": [
       "   bias  positive  negative  sentiment\n",
       "0   1.0  394606.0  353652.0        1.0\n",
       "1   1.0  226116.0  211206.0        1.0\n",
       "2   1.0  125520.0  116157.0        1.0\n",
       "3   1.0  813761.0  727562.0        1.0\n",
       "4   1.0  344181.0  324640.0        1.0"
      ]
     },
     "execution_count": 16,
     "metadata": {},
     "output_type": "execute_result"
    }
   ],
   "source": [
    "df.head()"
   ]
  },
  {
   "cell_type": "markdown",
   "id": "2209c4ee",
   "metadata": {},
   "source": [
    "# Logistic Regression Implementation"
   ]
  },
  {
   "cell_type": "code",
   "execution_count": 17,
   "id": "cb15dbf1",
   "metadata": {},
   "outputs": [],
   "source": [
    "import warnings\n",
    "warnings.filterwarnings('ignore')\n",
    "\n",
    "\n",
    "\n",
    "class LogisticRegressionn:\n",
    "    \n",
    "    def __init__(self,alpha =0.0001, iteration= 1000000):\n",
    "        \n",
    "        self.alpha = alpha\n",
    "        self.iteration = iteration\n",
    "        self.weight = None\n",
    "        \n",
    "    def fit(self, X,y):\n",
    "        \n",
    "        m, n = X.shape\n",
    "        \n",
    "        self.weight = np.zeros(n)\n",
    "\n",
    "        \n",
    "        for _ in range(self.iteration):\n",
    "            \n",
    "            y_linear = np.dot(X, self.weight)\n",
    "            \n",
    "            h = self._sigmoid(y_linear)\n",
    "            \n",
    "            dw = (1 / m) * np.dot(X.T, (h - y))\n",
    "            # update the weights theta\n",
    "            self.weight -= self.alpha * dw\n",
    "            \n",
    "    def predict(self,x):\n",
    "        \n",
    "        y_linear = np.dot(x, self.weight)\n",
    "        \n",
    "        h = self._sigmoid(y_linear) \n",
    "        return [1 if i > 0.5 else 0 for i in h]\n",
    "    \n",
    "    def _sigmoid(self,x):\n",
    "        \n",
    "        return 1 /(1+ np.exp(-x))"
   ]
  },
  {
   "cell_type": "code",
   "execution_count": 18,
   "id": "9f6a678a",
   "metadata": {},
   "outputs": [],
   "source": [
    "import numpy as np\n",
    "X = np.array(df[[\"bias\",\"positive\",\"negative\"]])\n",
    "y = np.array(df[\"sentiment\"])\n",
    "\n",
    "\n",
    "\n",
    "\n",
    "logistic = LogisticRegressionn()\n",
    "\n",
    "logistic.fit(X,y)\n",
    "\n",
    "z =logistic.predict(X)"
   ]
  },
  {
   "cell_type": "code",
   "execution_count": null,
   "id": "d2f7ce7d",
   "metadata": {},
   "outputs": [],
   "source": []
  },
  {
   "cell_type": "code",
   "execution_count": 19,
   "id": "fa9c3996",
   "metadata": {},
   "outputs": [],
   "source": [
    "for i in range(len(book_reviews)):\n",
    "    book_reviews[i] = lemmaText(removeStopWords(cleanText(str(book_reviews[i]))))"
   ]
  },
  {
   "cell_type": "code",
   "execution_count": 20,
   "id": "62203e18",
   "metadata": {},
   "outputs": [
    {
     "data": {
      "text/plain": [
       "['really enjoy novel thing enjoy reading type fill 140 character count include space',\n",
       " 'story good mc op first chapter 2100 chapter attitude change start beg polite everyone kinda suckand due lose interest']"
      ]
     },
     "execution_count": 20,
     "metadata": {},
     "output_type": "execute_result"
    }
   ],
   "source": [
    "book_reviews[:2]"
   ]
  },
  {
   "cell_type": "code",
   "execution_count": 21,
   "id": "8a017e1b",
   "metadata": {},
   "outputs": [],
   "source": [
    "book_review_df =pd.DataFrame()\n",
    "\n",
    "\n",
    "for review in book_reviews:\n",
    "    \n",
    "    pos = 0\n",
    "    neg =0\n",
    "    \n",
    "    for word in review.split():\n",
    "        \n",
    "        if word in frequency.keys():\n",
    "            pos += frequency[word][0]\n",
    "            neg += frequency[word][1]\n",
    "    data ={\"bias\": 1, \"positive\": pos,\"negative\": neg}\n",
    "    book_review_df = book_review_df.append(data, ignore_index=True)\n",
    "    "
   ]
  },
  {
   "cell_type": "code",
   "execution_count": 22,
   "id": "8dc7ef73",
   "metadata": {},
   "outputs": [],
   "source": [
    "book_review_df['Sentiment'] = logistic.predict(np.array(book_review_df))"
   ]
  },
  {
   "cell_type": "code",
   "execution_count": 23,
   "id": "ffb9afd4",
   "metadata": {},
   "outputs": [
    {
     "data": {
      "text/html": [
       "<div>\n",
       "<style scoped>\n",
       "    .dataframe tbody tr th:only-of-type {\n",
       "        vertical-align: middle;\n",
       "    }\n",
       "\n",
       "    .dataframe tbody tr th {\n",
       "        vertical-align: top;\n",
       "    }\n",
       "\n",
       "    .dataframe thead th {\n",
       "        text-align: right;\n",
       "    }\n",
       "</style>\n",
       "<table border=\"1\" class=\"dataframe\">\n",
       "  <thead>\n",
       "    <tr style=\"text-align: right;\">\n",
       "      <th></th>\n",
       "      <th>bias</th>\n",
       "      <th>positive</th>\n",
       "      <th>negative</th>\n",
       "      <th>Sentiment</th>\n",
       "    </tr>\n",
       "  </thead>\n",
       "  <tbody>\n",
       "    <tr>\n",
       "      <th>0</th>\n",
       "      <td>1.0</td>\n",
       "      <td>7490.0</td>\n",
       "      <td>6978.0</td>\n",
       "      <td>1</td>\n",
       "    </tr>\n",
       "    <tr>\n",
       "      <th>1</th>\n",
       "      <td>1.0</td>\n",
       "      <td>11344.0</td>\n",
       "      <td>10004.0</td>\n",
       "      <td>1</td>\n",
       "    </tr>\n",
       "    <tr>\n",
       "      <th>2</th>\n",
       "      <td>1.0</td>\n",
       "      <td>13542.0</td>\n",
       "      <td>12186.0</td>\n",
       "      <td>1</td>\n",
       "    </tr>\n",
       "    <tr>\n",
       "      <th>3</th>\n",
       "      <td>1.0</td>\n",
       "      <td>334059.0</td>\n",
       "      <td>309602.0</td>\n",
       "      <td>1</td>\n",
       "    </tr>\n",
       "    <tr>\n",
       "      <th>4</th>\n",
       "      <td>1.0</td>\n",
       "      <td>12634.0</td>\n",
       "      <td>10910.0</td>\n",
       "      <td>1</td>\n",
       "    </tr>\n",
       "    <tr>\n",
       "      <th>5</th>\n",
       "      <td>1.0</td>\n",
       "      <td>33028.0</td>\n",
       "      <td>27672.0</td>\n",
       "      <td>1</td>\n",
       "    </tr>\n",
       "    <tr>\n",
       "      <th>6</th>\n",
       "      <td>1.0</td>\n",
       "      <td>55750.0</td>\n",
       "      <td>54591.0</td>\n",
       "      <td>0</td>\n",
       "    </tr>\n",
       "    <tr>\n",
       "      <th>7</th>\n",
       "      <td>1.0</td>\n",
       "      <td>7864.0</td>\n",
       "      <td>6795.0</td>\n",
       "      <td>1</td>\n",
       "    </tr>\n",
       "    <tr>\n",
       "      <th>8</th>\n",
       "      <td>1.0</td>\n",
       "      <td>8145.0</td>\n",
       "      <td>7069.0</td>\n",
       "      <td>1</td>\n",
       "    </tr>\n",
       "    <tr>\n",
       "      <th>9</th>\n",
       "      <td>1.0</td>\n",
       "      <td>3891.0</td>\n",
       "      <td>4185.0</td>\n",
       "      <td>0</td>\n",
       "    </tr>\n",
       "    <tr>\n",
       "      <th>10</th>\n",
       "      <td>1.0</td>\n",
       "      <td>19120.0</td>\n",
       "      <td>17375.0</td>\n",
       "      <td>1</td>\n",
       "    </tr>\n",
       "    <tr>\n",
       "      <th>11</th>\n",
       "      <td>1.0</td>\n",
       "      <td>16286.0</td>\n",
       "      <td>15253.0</td>\n",
       "      <td>1</td>\n",
       "    </tr>\n",
       "    <tr>\n",
       "      <th>12</th>\n",
       "      <td>1.0</td>\n",
       "      <td>495.0</td>\n",
       "      <td>573.0</td>\n",
       "      <td>0</td>\n",
       "    </tr>\n",
       "    <tr>\n",
       "      <th>13</th>\n",
       "      <td>1.0</td>\n",
       "      <td>3829.0</td>\n",
       "      <td>3395.0</td>\n",
       "      <td>1</td>\n",
       "    </tr>\n",
       "    <tr>\n",
       "      <th>14</th>\n",
       "      <td>1.0</td>\n",
       "      <td>737.0</td>\n",
       "      <td>803.0</td>\n",
       "      <td>0</td>\n",
       "    </tr>\n",
       "    <tr>\n",
       "      <th>15</th>\n",
       "      <td>1.0</td>\n",
       "      <td>4795.0</td>\n",
       "      <td>4373.0</td>\n",
       "      <td>1</td>\n",
       "    </tr>\n",
       "  </tbody>\n",
       "</table>\n",
       "</div>"
      ],
      "text/plain": [
       "    bias  positive  negative  Sentiment\n",
       "0    1.0    7490.0    6978.0          1\n",
       "1    1.0   11344.0   10004.0          1\n",
       "2    1.0   13542.0   12186.0          1\n",
       "3    1.0  334059.0  309602.0          1\n",
       "4    1.0   12634.0   10910.0          1\n",
       "5    1.0   33028.0   27672.0          1\n",
       "6    1.0   55750.0   54591.0          0\n",
       "7    1.0    7864.0    6795.0          1\n",
       "8    1.0    8145.0    7069.0          1\n",
       "9    1.0    3891.0    4185.0          0\n",
       "10   1.0   19120.0   17375.0          1\n",
       "11   1.0   16286.0   15253.0          1\n",
       "12   1.0     495.0     573.0          0\n",
       "13   1.0    3829.0    3395.0          1\n",
       "14   1.0     737.0     803.0          0\n",
       "15   1.0    4795.0    4373.0          1"
      ]
     },
     "execution_count": 23,
     "metadata": {},
     "output_type": "execute_result"
    }
   ],
   "source": [
    "book_review_df"
   ]
  },
  {
   "cell_type": "code",
   "execution_count": 24,
   "id": "a3ccacc0",
   "metadata": {},
   "outputs": [
    {
     "data": {
      "text/plain": [
       "'im go honest cup tea enjoy idea super op bookas cheat still cant get fact mc keep meeting woman say heaven defy willpower cant even stop gawk asset full filler cant even begin describe sad thing filler doesnt contribute anything godamn advancement plot depress skip chapter hope dialogue end stop eye as overall able get stupid amount filler subpar mc doesnt live suppose personality follow certain xianxia plot may enjoy'"
      ]
     },
     "execution_count": 24,
     "metadata": {},
     "output_type": "execute_result"
    }
   ],
   "source": [
    "# Classifier said 6th index negative , lets look at it\n",
    "\n",
    "book_reviews[6]"
   ]
  },
  {
   "cell_type": "code",
   "execution_count": 25,
   "id": "844bc942",
   "metadata": {},
   "outputs": [
    {
     "data": {
      "text/plain": [
       "'lv _ chapter good story author wait dont drop 3'"
      ]
     },
     "execution_count": 25,
     "metadata": {},
     "output_type": "execute_result"
    }
   ],
   "source": [
    "book_reviews[15]"
   ]
  },
  {
   "cell_type": "code",
   "execution_count": 26,
   "id": "3c4c6cd5",
   "metadata": {},
   "outputs": [
    {
     "data": {
      "text/plain": [
       "'really enjoy novel thing enjoy reading type fill 140 character count include space'"
      ]
     },
     "execution_count": 26,
     "metadata": {},
     "output_type": "execute_result"
    }
   ],
   "source": [
    "book_reviews[0]"
   ]
  },
  {
   "cell_type": "code",
   "execution_count": null,
   "id": "96e5b334",
   "metadata": {},
   "outputs": [],
   "source": []
  }
 ],
 "metadata": {
  "kernelspec": {
   "display_name": "Python 3 (ipykernel)",
   "language": "python",
   "name": "python3"
  },
  "language_info": {
   "codemirror_mode": {
    "name": "ipython",
    "version": 3
   },
   "file_extension": ".py",
   "mimetype": "text/x-python",
   "name": "python",
   "nbconvert_exporter": "python",
   "pygments_lexer": "ipython3",
   "version": "3.8.11"
  }
 },
 "nbformat": 4,
 "nbformat_minor": 5
}
